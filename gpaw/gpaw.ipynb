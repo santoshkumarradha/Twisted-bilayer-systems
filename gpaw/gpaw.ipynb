{
 "cells": [
  {
   "cell_type": "code",
   "execution_count": 21,
   "metadata": {},
   "outputs": [],
   "source": [
    "from matplotlib import pyplot as plt\n",
    "import numpy as np\n",
    "import pymatgen as p\n",
    "import sys\n",
    "from ase.io import write,read\n",
    "import os\n",
    "sys.path.append(os.getcwd() + '/..')\n",
    "from pymatgen import Element\n",
    "from tblg import tblg_nm\n",
    "from pymatgen.io.ase import AseAtomsAdaptor as p2a\n",
    "import pickle"
   ]
  },
  {
   "cell_type": "code",
   "execution_count": 5,
   "metadata": {},
   "outputs": [],
   "source": [
    "tblg_sb=tblg_nm(4,2,d=0.9)\n",
    "tblg_sb.replace_species({Element(\"C\"): Element(\"Sb\")})\n",
    "# tblg_sb.to(\"cif\",\"4-2.cif\")\n",
    "# atoms=p2a().get_atoms(tblg_sb)\n",
    "# atoms.set_pbc([1,1,0])\n",
    "# pickle.dump(atoms,open(\"4-2.atoms\",'wb'))\n"
   ]
  },
  {
   "cell_type": "code",
   "execution_count": 6,
   "metadata": {},
   "outputs": [
    {
     "data": {
      "text/plain": [
       "2.9999999999999982"
      ]
     },
     "execution_count": 6,
     "metadata": {},
     "output_type": "execute_result"
    }
   ],
   "source": [
    "tblg_sb.get_distance(0,1)"
   ]
  },
  {
   "cell_type": "code",
   "execution_count": 1,
   "metadata": {},
   "outputs": [
    {
     "name": "stdout",
     "output_type": "stream",
     "text": [
      "      Step     Time          Energy         fmax\n",
      "BFGS:    0 20:10:11        7.089160       38.2223\n",
      "BFGS:    1 20:10:11        5.622510       29.6604\n",
      "BFGS:    2 20:10:11        4.444955       22.3631\n",
      "BFGS:    3 20:10:11        3.549915       16.3701\n",
      "BFGS:    4 20:10:11        2.913599       11.6585\n",
      "BFGS:    5 20:10:11        2.470256        7.9273\n",
      "BFGS:    6 20:10:11        2.171221        4.9556\n",
      "BFGS:    7 20:10:11        1.985982        2.6268\n",
      "BFGS:    8 20:10:11        1.894843        0.8698\n",
      "BFGS:    9 20:10:11        1.879685        0.0883\n",
      "BFGS:   10 20:10:11        1.879514        0.0127\n",
      "BFGS:   11 20:10:11        1.879510        0.0138\n",
      "BFGS:   12 20:10:11        1.879470        0.0286\n",
      "BFGS:   13 20:10:11        1.879406        0.0451\n",
      "BFGS:   14 20:10:11        1.879247        0.0652\n",
      "BFGS:   15 20:10:12        1.879009        0.0613\n",
      "BFGS:   16 20:10:12        1.878899        0.0254\n",
      "BFGS:   17 20:10:12        1.878885        0.0074\n",
      "[[ 0.          0.          0.        ]\n",
      " [ 0.          0.          0.12583718]\n",
      " [ 0.          0.         -0.12583718]]\n"
     ]
    }
   ],
   "source": [
    "from ase import Atoms\n",
    "from ase.optimize import BFGS\n",
    "from ase.calculators.emt import EMT\n",
    "from ase.constraints import FixedLine as fl\n",
    "from ase.io import Trajectory\n",
    "import numpy as np\n",
    "d = 0.9575\n",
    "t = np.pi / 180 * 104.51\n",
    "\n",
    "water = Atoms('H2O',\n",
    "              positions=[(d-0.1, .1, .2),\n",
    "                         (d * np.cos(t)-0.2, d * np.sin(t)+0.1, 0),\n",
    "                         (0.2, 0, 0)],\n",
    "              calculator=EMT())\n",
    "pos=water.positions\n",
    "water.set_constraint(fl([0],[0,0,1]))\n",
    "\n",
    "dyn = BFGS(water,trajectory=\"test\")\n",
    "dyn.run(fmax=0.01)\n",
    "a=Trajectory(\"lco.traj\")\n",
    "print(a[0].positions-a[-1].positions)"
   ]
  },
  {
   "cell_type": "code",
   "execution_count": 22,
   "metadata": {},
   "outputs": [],
   "source": [
    "from ase.io import Trajectory\n",
    "atoms=Trajectory(\"lco.traj\")\n",
    "write(\"relaxed.cif\",atoms[-1])"
   ]
  },
  {
   "cell_type": "code",
   "execution_count": 17,
   "metadata": {},
   "outputs": [],
   "source": [
    "pos=atoms[-1].positions\n",
    "# pos=atoms[-1].get_scaled_positions()"
   ]
  },
  {
   "cell_type": "code",
   "execution_count": 19,
   "metadata": {},
   "outputs": [
    {
     "data": {
      "text/plain": [
       "<matplotlib.collections.PathCollection at 0x1a35c86a10>"
      ]
     },
     "execution_count": 19,
     "metadata": {},
     "output_type": "execute_result"
    },
    {
     "data": {
      "image/png": "[encoded data removed]",
      "text/plain": [
       "<Figure size 432x288 with 1 Axes>"
      ]
     },
     "metadata": {
      "needs_background": "light"
     },
     "output_type": "display_data"
    }
   ],
   "source": [
    "plt.scatter(pos.T[0],pos.T[1])"
   ]
  },
  {
   "cell_type": "code",
   "execution_count": 10,
   "metadata": {},
   "outputs": [],
   "source": [
    "a=atoms[-1]"
   ]
  },
  {
   "cell_type": "code",
   "execution_count": 11,
   "metadata": {},
   "outputs": [
    {
     "data": {
      "text/plain": [
       "array([[1.90476190e-01, 7.61904760e-01, 5.68026444e-01],\n",
       "       [3.33333330e-01, 8.33333330e-01, 6.99570940e-01],\n",
       "       [4.76190480e-01, 9.04761900e-01, 4.43152932e-01],\n",
       "       [1.19047620e-01, 4.76190480e-01, 4.91311986e-01],\n",
       "       [2.61904760e-01, 5.47619050e-01, 5.05990781e-01],\n",
       "       [4.04761900e-01, 6.19047620e-01, 4.57362541e-01],\n",
       "       [5.47619050e-01, 6.90476190e-01, 5.89376013e-01],\n",
       "       [6.90476190e-01, 7.61904760e-01, 5.00519530e-01],\n",
       "       [8.33333330e-01, 8.33333330e-01, 6.92477616e-01],\n",
       "       [9.76190480e-01, 9.04761900e-01, 4.62569012e-01],\n",
       "       [1.90476190e-01, 2.61904760e-01, 5.72022822e-01],\n",
       "       [3.33333330e-01, 3.33333330e-01, 6.67707338e-01],\n",
       "       [4.76190480e-01, 4.04761900e-01, 5.82789108e-01],\n",
       "       [6.19047620e-01, 4.76190480e-01, 4.56131934e-01],\n",
       "       [7.61904760e-01, 5.47619050e-01, 4.78984408e-01],\n",
       "       [9.04761900e-01, 6.19047620e-01, 5.16131129e-01],\n",
       "       [4.76190500e-02, 6.90476190e-01, 5.67782593e-01],\n",
       "       [1.19047620e-01, 9.76190480e-01, 5.08489741e-01],\n",
       "       [2.61904760e-01, 4.76190500e-02, 5.22605427e-01],\n",
       "       [4.04761900e-01, 1.19047620e-01, 4.69196459e-01],\n",
       "       [5.47619050e-01, 1.90476190e-01, 5.84920696e-01],\n",
       "       [6.90476190e-01, 2.61904760e-01, 5.08050443e-01],\n",
       "       [8.33333330e-01, 3.33333330e-01, 6.75421964e-01],\n",
       "       [9.76190480e-01, 4.04761900e-01, 4.36012649e-01],\n",
       "       [6.19047620e-01, 9.76190480e-01, 4.60632199e-01],\n",
       "       [7.61904760e-01, 4.76190500e-02, 4.43582557e-01],\n",
       "       [9.04761900e-01, 1.19047620e-01, 4.87162481e-01],\n",
       "       [4.76190500e-02, 1.90476190e-01, 5.36677654e-01],\n",
       "       [3.09523810e-01, 7.38095240e-01, 5.10387382e-01],\n",
       "       [4.52380950e-01, 8.09523810e-01, 5.21108799e-01],\n",
       "       [5.95238100e-01, 8.80952380e-01, 6.49272407e-01],\n",
       "       [2.38095240e-01, 4.52380950e-01, 5.85631657e-01],\n",
       "       [3.80952380e-01, 5.23809520e-01, 6.39591691e-01],\n",
       "       [5.23809520e-01, 5.95238100e-01, 6.41684319e-01],\n",
       "       [6.66666670e-01, 6.66666670e-01, 6.70773808e-01],\n",
       "       [8.09523810e-01, 7.38095240e-01, 5.76875477e-01],\n",
       "       [9.52380950e-01, 8.09523810e-01, 6.25966865e-01],\n",
       "       [9.52381000e-02, 8.80952380e-01, 6.41205322e-01],\n",
       "       [3.09523810e-01, 2.38095240e-01, 5.20312606e-01],\n",
       "       [4.52380950e-01, 3.09523810e-01, 4.98218618e-01],\n",
       "       [5.95238100e-01, 3.80952380e-01, 6.52782983e-01],\n",
       "       [7.38095240e-01, 4.52380950e-01, 5.91853674e-01],\n",
       "       [8.80952380e-01, 5.23809520e-01, 6.37028558e-01],\n",
       "       [2.38095200e-02, 5.95238100e-01, 6.17819541e-01],\n",
       "       [1.66666670e-01, 6.66666670e-01, 6.73298050e-01],\n",
       "       [2.38095240e-01, 9.52380950e-01, 5.77075092e-01],\n",
       "       [3.80952380e-01, 2.38095200e-02, 6.04543418e-01],\n",
       "       [5.23809520e-01, 9.52381000e-02, 6.38204131e-01],\n",
       "       [6.66666670e-01, 1.66666670e-01, 6.69139621e-01],\n",
       "       [8.09523810e-01, 2.38095240e-01, 5.67565720e-01],\n",
       "       [9.52380950e-01, 3.09523810e-01, 5.99283580e-01],\n",
       "       [9.52381000e-02, 3.80952380e-01, 6.41802206e-01],\n",
       "       [7.38095240e-01, 9.52380950e-01, 5.87416753e-01],\n",
       "       [8.80952380e-01, 2.38095200e-02, 6.33063461e-01],\n",
       "       [2.38095200e-02, 9.52381000e-02, 6.34382593e-01],\n",
       "       [1.66666670e-01, 1.66666670e-01, 6.66329896e-01],\n",
       "       [2.23361267e-01, 3.27298156e-01, 4.40783718e-01],\n",
       "       [1.93749949e-01, 5.48802692e-01, 4.36357531e-01],\n",
       "       [4.48291489e-02, 8.87036098e-01, 5.32609701e-01],\n",
       "       [3.44376944e-01, 7.47517947e-01, 6.27452280e-01],\n",
       "       [2.03405056e-01, 8.54311091e-01, 4.57032571e-01],\n",
       "       [2.30862927e-01, 1.73269255e-01, 4.81183838e-01],\n",
       "       [4.43656788e-02, 3.75337179e-01, 5.19060392e-01],\n",
       "       [4.50346360e-01, 4.78528681e-01, 5.16420623e-01],\n",
       "       [4.17970143e-01, 8.60706810e-01, 3.61697587e-01],\n",
       "       [3.11711161e-01, 9.43326905e-01, 4.61231095e-01],\n",
       "       [1.89233104e-01, 4.70039500e-04, 3.62096887e-01],\n",
       "       [3.71289957e-01, 4.34183566e-01, 4.19342740e-01],\n",
       "       [2.81761682e-01, 3.94213775e-01, 5.15566692e-01],\n",
       "       [2.11327510e-01, 4.86988907e-01, 3.49616937e-01],\n",
       "       [6.00081743e-01, 3.23149867e-01, 4.33416121e-01],\n",
       "       [8.42066567e-01, 5.70964808e-01, 4.12307865e-01],\n",
       "       [7.37444063e-01, 9.05396445e-01, 5.12758128e-01],\n",
       "       [8.87786426e-01, 9.21128287e-01, 5.70177663e-01],\n",
       "       [6.65617464e-01, 7.89882721e-01, 4.19218334e-01],\n",
       "       [9.15710300e-01, 2.22328270e-02, 4.10849730e-01],\n",
       "       [7.12904012e-01, 4.01985049e-01, 5.24385982e-01],\n",
       "       [8.70928081e-01, 4.59700801e-01, 5.61902108e-01],\n",
       "       [6.50173617e-03, 8.62037000e-01, 3.82940205e-01],\n",
       "       [9.05285218e-01, 7.83287955e-01, 5.21701841e-01],\n",
       "       [6.62203886e-01, 9.30589498e-01, 3.36561264e-01],\n",
       "       [8.80548436e-01, 3.76871676e-01, 3.76802693e-01],\n",
       "       [8.90487619e-01, 3.14216506e-01, 4.94742300e-01],\n",
       "       [6.58190738e-01, 4.32311828e-01, 3.76780933e-01],\n",
       "       [1.05250493e-01, 7.11713646e-01, 4.99382638e-01],\n",
       "       [3.00736803e-01, 7.92175837e-01, 3.84908265e-01],\n",
       "       [2.23777046e-01, 8.54927194e-01, 3.00351395e-01],\n",
       "       [2.59010946e-01, 2.27335303e-01, 3.70847009e-01],\n",
       "       [9.81186450e-01, 8.37078992e-02, 5.61620043e-01],\n",
       "       [4.12307654e-01, 2.55620423e-01, 4.32210461e-01],\n",
       "       [2.70203174e-01, 3.53906871e-01, 2.93531164e-01],\n",
       "       [2.47631119e-01, 6.69659002e-01, 4.36553855e-01],\n",
       "       [7.40842669e-01, 5.42129225e-01, 3.54164210e-01],\n",
       "       [6.28688843e-01, 6.19858498e-01, 4.27365368e-01],\n",
       "       [4.53043519e-01, 7.34609956e-01, 4.42857680e-01],\n",
       "       [7.88791552e-01, 3.29455498e-02, 3.58693161e-01],\n",
       "       [5.48176627e-01, 3.91030942e-02, 3.95174123e-01],\n",
       "       [4.45503237e-01, 1.89091726e-01, 3.59637124e-01],\n",
       "       [5.01360471e-01, 6.32150215e-01, 5.30070235e-01],\n",
       "       [8.34789155e-01, 7.18556107e-01, 4.49389711e-01],\n",
       "       [7.13040831e-01, 9.28921766e-01, 2.51947454e-01],\n",
       "       [8.21811091e-01, 2.53749630e-01, 3.54245192e-01],\n",
       "       [6.05698907e-01, 1.75964535e-01, 5.10907266e-01],\n",
       "       [7.84273997e-01, 2.50614410e-01, 4.41761159e-01],\n",
       "       [6.82267367e-01, 4.14203161e-01, 2.85865230e-01],\n",
       "       [8.75063318e-01, 8.00173598e-01, 3.58057665e-01],\n",
       "       [3.21703031e-01, 5.60464621e-01, 3.56089561e-01],\n",
       "       [3.00809244e-02, 5.27112134e-01, 3.94859250e-01],\n",
       "       [7.87609291e-03, 6.55340344e-01, 4.57578713e-01],\n",
       "       [3.49954650e-01, 4.21968486e-02, 3.95433234e-01],\n",
       "       [1.07948203e-01, 1.33561946e-01, 4.59127960e-01],\n",
       "       [9.87179809e-01, 1.41682433e-01, 3.99776808e-01]])"
      ]
     },
     "execution_count": 11,
     "metadata": {},
     "output_type": "execute_result"
    }
   ],
   "source": []
  },
  {
   "cell_type": "code",
   "execution_count": null,
   "metadata": {},
   "outputs": [],
   "source": []
  }
 ],
 "metadata": {
  "kernelspec": {
   "display_name": "Python 3",
   "language": "python",
   "name": "python3"
  },
  "language_info": {
   "codemirror_mode": {
    "name": "ipython",
    "version": 3
   },
   "file_extension": ".py",
   "mimetype": "text/x-python",
   "name": "python",
   "nbconvert_exporter": "python",
   "pygments_lexer": "ipython3",
   "version": "3.7.7"
  }
 },
 "nbformat": 4,
 "nbformat_minor": 4
}
